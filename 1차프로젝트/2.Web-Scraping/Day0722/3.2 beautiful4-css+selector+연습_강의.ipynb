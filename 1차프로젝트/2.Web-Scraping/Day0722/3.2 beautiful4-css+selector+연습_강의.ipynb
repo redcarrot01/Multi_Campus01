{
 "cells": [
  {
   "cell_type": "code",
   "execution_count": 125,
   "metadata": {},
   "outputs": [],
   "source": [
    "book_html=\"\"\"\n",
    "\n",
    "<ul id=\"bible\">\n",
    "<li id=\"ge\" class=\"first\">\n",
    "<ul class =\"second\">\n",
    "<div>\n",
    "<li><span> aa</span></li> </div>\n",
    "<li>bb</li>\n",
    "</ul>\n",
    "</li>\n",
    "<li id=\"ex\" class=\"first\">나의첫사회생활</li>\n",
    "<li id=\"le\" class=\"second\">Still Me</li>\n",
    "<li id=\"nu\" class=\"second\">화염과 분노 : 도널드 트럼프의 백악관 뒷이야기</li>\n",
    "<li id=\"de\">매일 좋을 수만은 없는 여행을 한다</li>\n",
    "</ul>\n",
    "\n",
    "\"\"\"\n",
    "from bs4 import BeautifulSoup\n",
    "soup = BeautifulSoup(book_html, 'html.parser')\n",
    "#print(soup.select('ul li'))\n",
    "#book_html"
   ]
  },
  {
   "cell_type": "code",
   "execution_count": 108,
   "metadata": {},
   "outputs": [
    {
     "name": "stdout",
     "output_type": "stream",
     "text": [
      "<li class=\"first\" id=\"ge\">\n",
      "<ul class=\"second\">\n",
      "<div>\n",
      "<li><span> aa</span></li> </div>\n",
      "<li>bb</li>\n",
      "</ul>\n",
      "</li>\n",
      "<li><span> aa</span></li>\n",
      "<li>bb</li>\n",
      "<li class=\"first\" id=\"ex\">나의첫사회생활</li>\n",
      "<li class=\"second\" id=\"le\">Still Me</li>\n",
      "<li class=\"second\" id=\"nu\">화염과 분노 : 도널드 트럼프의 백악관 뒷이야기</li>\n",
      "<li id=\"de\">매일 좋을 수만은 없는 여행을 한다</li>\n"
     ]
    }
   ],
   "source": [
    "for li_tag in soup.select('ul li'):\n",
    "    print(li_tag)"
   ]
  },
  {
   "cell_type": "code",
   "execution_count": 109,
   "metadata": {},
   "outputs": [
    {
     "name": "stdout",
     "output_type": "stream",
     "text": [
      "<class 'bs4.element.ResultSet'> [<li class=\"first\" id=\"ge\">\n",
      "<ul class=\"second\">\n",
      "<div>\n",
      "<li><span> aa</span></li> </div>\n",
      "<li>bb</li>\n",
      "</ul>\n",
      "</li>]\n",
      "-----\n",
      "<class 'bs4.element.Tag'> <li class=\"first\" id=\"ge\">\n",
      "<ul class=\"second\">\n",
      "<div>\n",
      "<li><span> aa</span></li> </div>\n",
      "<li>bb</li>\n",
      "</ul>\n",
      "</li>\n",
      "-----\n",
      "aa \n",
      "bb\n",
      "aa \n",
      "bb\n"
     ]
    }
   ],
   "source": [
    "#id가 ge인 태그 가져오기\n",
    "#select.select_one\n",
    "print(type(soup.select('#ge')), soup.select('#ge'))\n",
    "print('-----')\n",
    "print(type(soup.select_one('#ge')), soup.select_one('#ge'))\n",
    "print('-----')\n",
    "#print(soup.select('#ge')[0].text.strip())\n",
    "print(soup.select('li#ge')[0].text.strip()) #이것도 가능\n",
    "print(soup.select_one('#ge').text.strip()) # 얘는 태그라서 가능"
   ]
  },
  {
   "cell_type": "code",
   "execution_count": 110,
   "metadata": {},
   "outputs": [
    {
     "name": "stdout",
     "output_type": "stream",
     "text": [
      "[<ul class=\"second\">\n",
      "<div>\n",
      "<li><span> aa</span></li> </div>\n",
      "<li>bb</li>\n",
      "</ul>, <li class=\"second\" id=\"le\">Still Me</li>, <li class=\"second\" id=\"nu\">화염과 분노 : 도널드 트럼프의 백악관 뒷이야기</li>]\n",
      "-----------\n",
      "[<li class=\"second\" id=\"le\">Still Me</li>, <li class=\"second\" id=\"nu\">화염과 분노 : 도널드 트럼프의 백악관 뒷이야기</li>]\n",
      "-----------\n",
      "<li class=\"second\" id=\"le\">Still Me</li>\n"
     ]
    }
   ],
   "source": [
    "#class 명이 세컨드인 태그 \n",
    "print(soup.select('.second'))\n",
    "print('-----------')\n",
    "print(soup.select('li.second'))\n",
    "print('-----------')\n",
    "print(soup.select_one('li.second'))"
   ]
  },
  {
   "cell_type": "code",
   "execution_count": 111,
   "metadata": {},
   "outputs": [
    {
     "name": "stdout",
     "output_type": "stream",
     "text": [
      "<class 'bs4.element.ResultSet'> [<li class=\"first\" id=\"ge\">\n",
      "<ul class=\"second\">\n",
      "<div>\n",
      "<li><span> aa</span></li> </div>\n",
      "<li>bb</li>\n",
      "</ul>\n",
      "</li>, <li><span> aa</span></li>, <li>bb</li>, <li class=\"first\" id=\"ex\">나의첫사회생활</li>, <li class=\"second\" id=\"le\">Still Me</li>, <li class=\"second\" id=\"nu\">화염과 분노 : 도널드 트럼프의 백악관 뒷이야기</li>, <li id=\"de\">매일 좋을 수만은 없는 여행을 한다</li>]\n",
      "-------------------\n",
      "<class 'bs4.element.Tag'> <li class=\"first\" id=\"ge\">\n",
      "<ul class=\"second\">\n",
      "<div>\n",
      "<li><span> aa</span></li> </div>\n",
      "<li>bb</li>\n",
      "</ul>\n",
      "</li>\n"
     ]
    }
   ],
   "source": [
    "#find()와 find_all()\n",
    "#find() == select_one()\n",
    "#find_all() == select()\n",
    "\n",
    "print(type(soup.find_all('li')), soup.find_all('li'))\n",
    "print('-------------------')\n",
    "print(type(soup.find('li')), soup.find('li'))"
   ]
  },
  {
   "cell_type": "code",
   "execution_count": 112,
   "metadata": {},
   "outputs": [
    {
     "name": "stdout",
     "output_type": "stream",
     "text": [
      "<class 'bs4.element.ResultSet'> [<li class=\"second\" id=\"le\">Still Me</li>, <li class=\"second\" id=\"nu\">화염과 분노 : 도널드 트럼프의 백악관 뒷이야기</li>]\n",
      "-------------------\n",
      "<class 'bs4.element.Tag'> <li class=\"second\" id=\"le\">Still Me</li>\n",
      "Still Me\n",
      "Still Me\n",
      "Still Me\n",
      "Still Me\n"
     ]
    }
   ],
   "source": [
    "#li.second 어떻게 할까 \n",
    "\n",
    "print(type(soup.find_all('li')), soup.find_all('li', attrs={\"class\":\"second\"})) #attrs key value\n",
    "print('-------------------')\n",
    "print(type(soup.find('li')), soup.find('li', attrs={\"class\":\"second\"}))\n",
    "print(soup.find('li', attrs={\"class\":\"second\"}).string) # string 말고 text 도됨\n",
    "print(soup.find('li', attrs={\"class\":\"second\"}).text)\n",
    "print(soup.select_one('li.second').string)\n",
    "print(soup.select_one('li.second').text)"
   ]
  },
  {
   "cell_type": "code",
   "execution_count": 113,
   "metadata": {},
   "outputs": [],
   "source": [
    "# css 선택자 입력받아서 결과 반환하는 람다함수 정의\n",
    "sel = lambda ex:print(soup.select_one(ex).string)"
   ]
  },
  {
   "cell_type": "code",
   "execution_count": 114,
   "metadata": {},
   "outputs": [
    {
     "name": "stdout",
     "output_type": "stream",
     "text": [
      "나의첫사회생활\n",
      "Still Me\n",
      "Still Me\n",
      "bb\n",
      " aa\n",
      " aa\n",
      "나의첫사회생활\n",
      "매일 좋을 수만은 없는 여행을 한다\n"
     ]
    }
   ],
   "source": [
    "sel('li#ex')\n",
    "sel('ul li#le')\n",
    "sel('ul> li#le')\n",
    "sel('ul.second>li') # 바로 하위만 가능 \n",
    "sel('ul.second>div> li') \n",
    "sel('ul.second li') # uㅣ 밑에 li 여러개 갖고 올 수있음 select_one 아니면\n",
    "#div는 줄바꿈이 되지만 span은 옆으로만 .. 줄바꿈 안행\n",
    "sel(\"li[id='ex']\")\n",
    "sel('li:nth-of-type(5)')"
   ]
  },
  {
   "cell_type": "code",
   "execution_count": 115,
   "metadata": {},
   "outputs": [
    {
     "name": "stdout",
     "output_type": "stream",
     "text": [
      "7 [<li class=\"first\" id=\"ge\">\n",
      "<ul class=\"second\">\n",
      "<div>\n",
      "<li><span> aa</span></li> </div>\n",
      "<li>bb</li>\n",
      "</ul>\n",
      "</li>, <li><span> aa</span></li>, <li>bb</li>, <li class=\"first\" id=\"ex\">나의첫사회생활</li>, <li class=\"second\" id=\"le\">Still Me</li>, <li class=\"second\" id=\"nu\">화염과 분노 : 도널드 트럼프의 백악관 뒷이야기</li>, <li id=\"de\">매일 좋을 수만은 없는 여행을 한다</li>]\n"
     ]
    }
   ],
   "source": [
    "print(len(soup.select('li')),soup.select('li'))"
   ]
  },
  {
   "cell_type": "code",
   "execution_count": 129,
   "metadata": {},
   "outputs": [],
   "source": [
    "html=\"\"\"\n",
    "<html>\n",
    "<body>\n",
    "<div id=\"main-goods\" role=\"page\">\n",
    "<h1>과일과 야채</h1>\n",
    "<ul id=\"fr-list\">\n",
    "<li class=\"red green\" data-lo=\"ko\">사과</li>\n",
    "<li class=\"purple\" data-lo=\"us\">포도</li>\n",
    "<li class=\"yellow\" data-lo=\"us\">레몬</li>\n",
    "<li class=\"yellow\" data-lo=\"ko\">오렌지</li>\n",
    "</ul>\n",
    "<ul id=\"ve-list\">\n",
    "<li class=\"white green\" data-lo=\"ko\">무</li>\n",
    "<li class=\"red green\" data-lo=\"us\">파프리카</li>\n",
    "<li class=\"black\" data-lo=\"ko\">가지</li>\n",
    "<li class=\"black\" data-lo=\"us\">아보카도</li>\n",
    "<li class=\"white\" data-lo=\"cn\">연근</li>\n",
    "</ul>\n",
    "</div>\n",
    "<body>\n",
    "</html>\n",
    "\n",
    "\n",
    "##쉬는 시간에 하기 \n",
    "#도입만 하면 오키\n",
    "##\n",
    "\"\"\"\n",
    "from bs4 import BeautifulSoup\n",
    "soup = BeautifulSoup(html, 'html.parser')\n",
    "\n",
    "\n",
    "#1. 야채이름만 가져오기\n",
    "#2. 과일이름만 가져오기\n",
    "#3. 야채 중에서 국산야채만 \n",
    "#4. 과일 중에서 미국과일만\n",
    "#5. 야채중 옐로우\n",
    "#6. 야채중 블랙\n",
    "#7. 전체에서 레드그린\n",
    "#8. 전체에서 us 가져오기"
   ]
  },
  {
   "cell_type": "code",
   "execution_count": 146,
   "metadata": {},
   "outputs": [
    {
     "name": "stdout",
     "output_type": "stream",
     "text": [
      "['무', '파프리카', '가지', '아보카도', '연근']\n",
      "----------\n"
     ]
    }
   ],
   "source": [
    "#1\n",
    "vegs = []\n",
    "for veg in soup.select('ul#ve-list li'):\n",
    "    vegs.append(veg.text)\n",
    "    #vegs.append(veg)\n",
    "print(vegs)\n",
    "print('----------')"
   ]
  },
  {
   "cell_type": "code",
   "execution_count": 147,
   "metadata": {},
   "outputs": [
    {
     "name": "stdout",
     "output_type": "stream",
     "text": [
      "['사과', '포도', '레몬', '오렌지']\n",
      "----------\n"
     ]
    }
   ],
   "source": [
    "#2\n",
    "frus = []\n",
    "for fru in soup.select('ul#fr-list li'):\n",
    "    frus.append(fru.text)\n",
    "print(frus)\n",
    "print('----------')"
   ]
  },
  {
   "cell_type": "code",
   "execution_count": 148,
   "metadata": {},
   "outputs": [
    {
     "name": "stdout",
     "output_type": "stream",
     "text": [
      "['무', '가지']\n",
      "----------\n"
     ]
    }
   ],
   "source": [
    "#3\n",
    "us_vegs = []\n",
    "for us_veg in soup.select('ul#ve-list li[data-lo=\"ko\"]'):\n",
    "    us_vegs.append(us_veg.text)\n",
    "print(us_vegs)\n",
    "print('----------')"
   ]
  },
  {
   "cell_type": "code",
   "execution_count": 149,
   "metadata": {},
   "outputs": [
    {
     "name": "stdout",
     "output_type": "stream",
     "text": [
      "['포도', '레몬']\n",
      "----------\n"
     ]
    }
   ],
   "source": [
    "#4\n",
    "us_frus = []\n",
    "for us_fru in soup.select('ul#fr-list li[data-lo=\"us\"]'):\n",
    "    us_frus.append(us_fru.text)\n",
    "print(us_frus)\n",
    "print('----------')"
   ]
  },
  {
   "cell_type": "code",
   "execution_count": 150,
   "metadata": {},
   "outputs": [
    {
     "name": "stdout",
     "output_type": "stream",
     "text": [
      "[]\n",
      "----------\n"
     ]
    }
   ],
   "source": [
    "#5\n",
    "veg_yels =[]\n",
    "for veg_yel in soup.select('ul#ve-list li[class =\"yellow\"]'):\n",
    "    veg_yels.append(veg_yel.text)\n",
    "print(veg_yels)\n",
    "print('----------')"
   ]
  },
  {
   "cell_type": "code",
   "execution_count": 151,
   "metadata": {},
   "outputs": [
    {
     "name": "stdout",
     "output_type": "stream",
     "text": [
      "['가지', '아보카도']\n",
      "----------\n"
     ]
    }
   ],
   "source": [
    "#6\n",
    "veg_bls =[]\n",
    "for veg_bl in soup.select('ul#ve-list li[class =\"black\"]'):\n",
    "    veg_bls.append(veg_bl.text)\n",
    "print(veg_bls)\n",
    "print('----------')"
   ]
  },
  {
   "cell_type": "code",
   "execution_count": 152,
   "metadata": {},
   "outputs": [
    {
     "name": "stdout",
     "output_type": "stream",
     "text": [
      "['사과', '파프리카']\n",
      "----------\n"
     ]
    }
   ],
   "source": [
    "#7\n",
    "redgreen_all = []\n",
    "for red in soup.select('li[class=\"red green\"]'):\n",
    "    redgreen_all.append(red.text)\n",
    "print(redgreen_all)\n",
    "print('----------')"
   ]
  },
  {
   "cell_type": "code",
   "execution_count": 153,
   "metadata": {},
   "outputs": [
    {
     "name": "stdout",
     "output_type": "stream",
     "text": [
      "['포도', '레몬', '파프리카', '아보카도']\n",
      "----------\n"
     ]
    }
   ],
   "source": [
    "#8\n",
    "us_all = []\n",
    "# for ko_veg in soup.select('ul#ve-list li#data-lo=\"ko\"'):\n",
    "for us in soup.select('li[data-lo=\"us\"]'):\n",
    "    us_all.append(us.text)\n",
    "print(us_all)\n",
    "print('----------')"
   ]
  }
 ],
 "metadata": {
  "kernelspec": {
   "display_name": "Python 3",
   "language": "python",
   "name": "python3"
  },
  "language_info": {
   "codemirror_mode": {
    "name": "ipython",
    "version": 3
   },
   "file_extension": ".py",
   "mimetype": "text/x-python",
   "name": "python",
   "nbconvert_exporter": "python",
   "pygments_lexer": "ipython3",
   "version": "3.7.6"
  }
 },
 "nbformat": 4,
 "nbformat_minor": 4
}
