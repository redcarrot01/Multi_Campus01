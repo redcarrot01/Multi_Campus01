{
 "cells": [
  {
   "cell_type": "markdown",
   "metadata": {},
   "source": [
    "### 1. Nhn 뉴스 제목 검색\n",
    "* requests, beautifulsoup 사용\n",
    "* css selector - 속성 선택자 사용"
   ]
  },
  {
   "cell_type": "code",
   "execution_count": 2,
   "metadata": {},
   "outputs": [],
   "source": [
    "import requests\n",
    "from bs4 import BeautifulSoup\n",
    "from urllib.parse import urljoin"
   ]
  },
  {
   "cell_type": "code",
   "execution_count": 3,
   "metadata": {},
   "outputs": [
    {
     "name": "stdout",
     "output_type": "stream",
     "text": [
      "status code : 200\n",
      "response header :  {'date': 'Sun, 26 Jul 2020 05:26:08 GMT', 'cache-control': 'no-cache', 'expires': 'Thu, 01 Jan 1970 00:00:00 GMT', 'set-cookie': 'JSESSIONID=481AB5D0EEAFEF3AD2FA9050A90A9C9F; Path=/main; HttpOnly', 'content-language': 'ko-KR', 'vary': 'Accept-Encoding', 'content-encoding': 'gzip', 'transfer-encoding': 'chunked', 'content-type': 'text/html;charset=EUC-KR', 'referrer-policy': 'unsafe-url', 'server': 'nfront'}\n"
     ]
    },
    {
     "data": {
      "text/plain": [
       "'text/html;charset=EUC-KR'"
      ]
     },
     "execution_count": 3,
     "metadata": {},
     "output_type": "execute_result"
    }
   ],
   "source": [
    "url = 'https://news.naver.com/'\n",
    "response = requests.get(url)\n",
    "print('status code :' ,response.status_code)\n",
    "print('response header : ', response.headers)\n",
    "response.headers['content-type']"
   ]
  },
  {
   "cell_type": "code",
   "execution_count": 4,
   "metadata": {},
   "outputs": [],
   "source": [
    "# 응답 데이터 html 텍스트\n",
    "html = response.text"
   ]
  },
  {
   "cell_type": "code",
   "execution_count": 5,
   "metadata": {},
   "outputs": [
    {
     "ename": "SelectorSyntaxError",
     "evalue": "Malformed attribute selector at position 1\n  line 1:\na[href*=read.nhn]\n ^ (<string>)",
     "output_type": "error",
     "traceback": [
      "Traceback \u001b[1;36m(most recent call last)\u001b[0m:\n",
      "  File \u001b[0;32m\"C:\\Anaconda333\\lib\\site-packages\\IPython\\core\\interactiveshell.py\"\u001b[0m, line \u001b[0;32m3331\u001b[0m, in \u001b[0;35mrun_code\u001b[0m\n    exec(code_obj, self.user_global_ns, self.user_ns)\n",
      "  File \u001b[0;32m\"<ipython-input-5-972fceaa488e>\"\u001b[0m, line \u001b[0;32m3\u001b[0m, in \u001b[0;35m<module>\u001b[0m\n    tag_list = soup.select(\"a[href*=read.nhn]\")\n",
      "  File \u001b[0;32m\"C:\\Anaconda333\\lib\\site-packages\\bs4\\element.py\"\u001b[0m, line \u001b[0;32m1784\u001b[0m, in \u001b[0;35mselect\u001b[0m\n    results = soupsieve.select(selector, self, namespaces, limit, **kwargs)\n",
      "  File \u001b[0;32m\"C:\\Anaconda333\\lib\\site-packages\\soupsieve\\__init__.py\"\u001b[0m, line \u001b[0;32m114\u001b[0m, in \u001b[0;35mselect\u001b[0m\n    return compile(select, namespaces, flags, **kwargs).select(tag, limit)\n",
      "  File \u001b[0;32m\"C:\\Anaconda333\\lib\\site-packages\\soupsieve\\__init__.py\"\u001b[0m, line \u001b[0;32m63\u001b[0m, in \u001b[0;35mcompile\u001b[0m\n    return cp._cached_css_compile(pattern, namespaces, custom, flags)\n",
      "  File \u001b[0;32m\"C:\\Anaconda333\\lib\\site-packages\\soupsieve\\css_parser.py\"\u001b[0m, line \u001b[0;32m206\u001b[0m, in \u001b[0;35m_cached_css_compile\u001b[0m\n    CSSParser(pattern, custom=custom_selectors, flags=flags).process_selectors(),\n",
      "  File \u001b[0;32m\"C:\\Anaconda333\\lib\\site-packages\\soupsieve\\css_parser.py\"\u001b[0m, line \u001b[0;32m1062\u001b[0m, in \u001b[0;35mprocess_selectors\u001b[0m\n    return self.parse_selectors(self.selector_iter(self.pattern), index, flags)\n",
      "  File \u001b[0;32m\"C:\\Anaconda333\\lib\\site-packages\\soupsieve\\css_parser.py\"\u001b[0m, line \u001b[0;32m911\u001b[0m, in \u001b[0;35mparse_selectors\u001b[0m\n    key, m = next(iselector)\n",
      "\u001b[1;36m  File \u001b[1;32m\"C:\\Anaconda333\\lib\\site-packages\\soupsieve\\css_parser.py\"\u001b[1;36m, line \u001b[1;32m1055\u001b[1;36m, in \u001b[1;35mselector_iter\u001b[1;36m\u001b[0m\n\u001b[1;33m    raise SelectorSyntaxError(msg, self.pattern, index)\u001b[0m\n",
      "\u001b[1;36m  File \u001b[1;32m\"<string>\"\u001b[1;36m, line \u001b[1;32munknown\u001b[0m\n\u001b[1;31mSelectorSyntaxError\u001b[0m\u001b[1;31m:\u001b[0m Malformed attribute selector at position 1\n  line 1:\na[href*=read.nhn]\n ^\n"
     ]
    }
   ],
   "source": [
    "# BeautifulSoup 객체 생성\n",
    "soup = BeautifulSoup(html, 'html.parser')\n",
    "tag_list = soup.select(\"a[href*=read.nhn]\")\n",
    "print(type(tag_list), len(tag_list))\n",
    "for idx, a_tag in enumerate(tag_list):\n",
    "    #print(a_tag)\n",
    "    title = a_tag.text.strip()\n",
    "    link = urljoin(url, a_tag['href'])\n",
    "    print(idx, title, link)\n",
    "    print('-------')"
   ]
  },
  {
   "cell_type": "markdown",
   "metadata": {},
   "source": [
    "### 2. Nhn 번역서비스 Papago 사용하기\n",
    "* urllib 를 사용하기\n",
    "* requests를 사용하기"
   ]
  },
  {
   "cell_type": "code",
   "execution_count": 6,
   "metadata": {},
   "outputs": [
    {
     "name": "stdout",
     "output_type": "stream",
     "text": [
      "{\"message\":{\"@type\":\"response\",\"@service\":\"naverservice.nmt.proxy\",\"@version\":\"1.0.0\",\"result\":{\"srcLangType\":\"en\",\"tarLangType\":\"ko\",\"translatedText\":\"어제 나의 모든 고민들은 너무나 멀리 떨어져 있는 것 같았다.\",\"engineType\":\"N2MT\",\"pivot\":null}}}\n"
     ]
    }
   ],
   "source": [
    "# 네이버 Papago NMT API 예제\n",
    "import os\n",
    "import sys\n",
    "import urllib.request\n",
    "\n",
    "client_id = \"Zo1vTslyKxKYskf_qfUk\"\n",
    "client_secret = \"X5kGpbWEbv\"\n",
    "\n",
    "encText = urllib.parse.quote(\"Yesterday all my troubles seemed so far away.\")\n",
    "# query string\n",
    "data = \"source=en&target=ko&text=\" + encText\n",
    "url = \"https://openapi.naver.com/v1/papago/n2mt\"\n",
    "\n",
    "request = urllib.request.Request(url)\n",
    "request.add_header(\"X-Naver-Client-Id\",client_id)\n",
    "request.add_header(\"X-Naver-Client-Secret\",client_secret)\n",
    "\n",
    "response = urllib.request.urlopen(request, data=data.encode(\"utf-8\"))\n",
    "rescode = response.getcode()\n",
    "if(rescode==200):\n",
    "    response_body = response.read()\n",
    "    print(response_body.decode('utf-8'))\n",
    "else:\n",
    "    print(\"Error Code:\" + rescode)"
   ]
  },
  {
   "cell_type": "markdown",
   "metadata": {},
   "source": [
    "#### requests 예제로 변환하기 "
   ]
  },
  {
   "cell_type": "code",
   "execution_count": null,
   "metadata": {},
   "outputs": [],
   "source": [
    "import requests\n",
    "\n",
    "client_id = \"Zo1vTslyKxKYskf_qfUk\"\n",
    "client_secret = \"X5kGpbWEbv\"\n",
    "url = \"https://openapi.naver.com/v1/papago/n2mt\"\n",
    "encText = \"Yesterday all my troubles seemed so far away.\"\n",
    "\n",
    "req_headers = {\n",
    "    \"X-Naver-Client-Id\":client_id,\n",
    "    \"X-Naver-Client-Secret\":client_secret\n",
    "}\n",
    "params = {\n",
    "    'source':'en',\n",
    "    'target':'ja',\n",
    "    'text':encText\n",
    "}\n",
    "response = requests.post(url, headers=req_headers, data=params)\n",
    "print('응답헤더값들',response.headers)\n",
    "print('요청헤더값들',response.request.headers)\n",
    "print('status code ',response.status_code)\n",
    "\n",
    "if response.status_code == 200:\n",
    "    print(response.text)\n",
    "else:\n",
    "    print('Error Code ',response.status_code)"
   ]
  },
  {
   "cell_type": "code",
   "execution_count": null,
   "metadata": {},
   "outputs": [],
   "source": [
    "myjson = response.json()\n",
    "print(type(myjson), myjson)"
   ]
  },
  {
   "cell_type": "code",
   "execution_count": null,
   "metadata": {},
   "outputs": [],
   "source": [
    "myjson['message']['result']['translatedText']"
   ]
  },
  {
   "cell_type": "markdown",
   "metadata": {},
   "source": [
    "### requests의 Request, Session 객체를 사용하는 방식으로 변환"
   ]
  },
  {
   "cell_type": "code",
   "execution_count": 7,
   "metadata": {},
   "outputs": [
    {
     "name": "stdout",
     "output_type": "stream",
     "text": [
      "응답헤더값들 {'Server': 'nginx', 'Date': 'Sun, 26 Jul 2020 05:56:39 GMT', 'Content-Type': 'application/json; charset=UTF-8', 'Content-Length': '271', 'Connection': 'keep-alive', 'Keep-Alive': 'timeout=5', 'Vary': 'Accept-Encoding', 'X-QUOTA': '45'}\n",
      "요청헤더값들 {'X-Naver-Client-Id': 'Zo1vTslyKxKYskf_qfUk', 'X-Naver-Client-Secret': 'X5kGpbWEbv', 'Content-Length': '70', 'Content-Type': 'application/x-www-form-urlencoded'}\n",
      "status code  200\n",
      "어제 나의 모든 고민들은 너무나 멀리 떨어져 있는 것 같았다.\n"
     ]
    }
   ],
   "source": [
    "import requests\n",
    "# Request와 Session 클래스를 import\n",
    "from requests import Request, Session\n",
    "\n",
    "client_id = \"Zo1vTslyKxKYskf_qfUk\"\n",
    "client_secret = \"X5kGpbWEbv\"\n",
    "url = \"https://openapi.naver.com/v1/papago/n2mt\"\n",
    "encText = \"Yesterday all my troubles seemed so far away.\"\n",
    "\n",
    "req_headers = {\n",
    "    \"X-Naver-Client-Id\":client_id,\n",
    "    \"X-Naver-Client-Secret\":client_secret\n",
    "}\n",
    "params = {\n",
    "    'source':'en',\n",
    "    'target':'ko',\n",
    "    'text':encText\n",
    "}\n",
    "\n",
    "#Session 객체 생성\n",
    "session = Session()\n",
    "#Request 객체 생성\n",
    "request = Request('POST', url, headers=req_headers, data=params)\n",
    "# request의 prepare() 함수 호출\n",
    "prepped = request.prepare()\n",
    "\n",
    "# session의 send() 함수를 호출해서 서버에 요청을 전달\n",
    "response = session.send(prepped)\n",
    "\n",
    "print('응답헤더값들',response.headers)\n",
    "print('요청헤더값들',response.request.headers)\n",
    "print('status code ',response.status_code)\n",
    "\n",
    "if response.status_code == 200:\n",
    "    print(response.json()['message']['result']['translatedText'])\n",
    "else:\n",
    "    print('Error Code ',response.status_code)"
   ]
  }
 ],
 "metadata": {
  "kernelspec": {
   "display_name": "Python 3",
   "language": "python",
   "name": "python3"
  },
  "language_info": {
   "codemirror_mode": {
    "name": "ipython",
    "version": 3
   },
   "file_extension": ".py",
   "mimetype": "text/x-python",
   "name": "python",
   "nbconvert_exporter": "python",
   "pygments_lexer": "ipython3",
   "version": "3.7.6"
  }
 },
 "nbformat": 4,
 "nbformat_minor": 2
}
