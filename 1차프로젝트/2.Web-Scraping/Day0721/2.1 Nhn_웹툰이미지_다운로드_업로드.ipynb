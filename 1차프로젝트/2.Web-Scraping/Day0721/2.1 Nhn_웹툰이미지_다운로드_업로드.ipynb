{
 "cells": [
  {
   "cell_type": "markdown",
   "metadata": {},
   "source": [
    "## 1. 네이버 웹툰 이미지 다운로드\n",
    "* Referer 라는 header 값에 url를 설정한다\n",
    "* 특정 image url을 list에 저장한다\n",
    "* requests의 get()  함수로 image data를 요청\n",
    "* response.content 라는 property를 사용\n",
    "* local file로 저장"
   ]
  },
  {
   "cell_type": "markdown",
   "metadata": {},
   "source": [
    "http: web 페이지를 받을 수 있게 해주는 프로토콜\n",
    "referer : 이 헤더값은 브라우저가 서버로 이헤더값을 설정해서 보낸다\n",
    "          이 페이지를 요청한 이전 페이지가 무엇인지 알게 해줘\n",
    "          즉, 로그 분석할때 주로 사용\n",
    "          \n",
    "requests.get() : get요청\n",
    "write() : 파일 다운"
   ]
  },
  {
   "cell_type": "code",
   "execution_count": 1,
   "metadata": {},
   "outputs": [
    {
     "name": "stdout",
     "output_type": "stream",
     "text": [
      "20200720170605_25afe583d26a90598d9dc108ff5f5c98_IMAG01_1.jpg\n",
      "Writing to20200720170605_25afe583d26a90598d9dc108ff5f5c98_IMAG01_1.jpg (144664 bytes)\n",
      "20200720170605_25afe583d26a90598d9dc108ff5f5c98_IMAG01_2.jpg\n",
      "Writing to20200720170605_25afe583d26a90598d9dc108ff5f5c98_IMAG01_2.jpg (156101 bytes)\n",
      "20200720170605_25afe583d26a90598d9dc108ff5f5c98_IMAG01_3.jpg\n",
      "Writing to20200720170605_25afe583d26a90598d9dc108ff5f5c98_IMAG01_3.jpg (231168 bytes)\n"
     ]
    }
   ],
   "source": [
    "import requests\n",
    "import os\n",
    "\n",
    "req_header = {\n",
    "    \n",
    "    'referer':'https://comic.naver.com/webtoon/detail.nhn?titleId=626906&no=602&amp;weekday=tue'\n",
    "    \n",
    "} # referer : 이전페이지 url , 어떤 페이지 거쳐 왔는가\n",
    "\n",
    "#req_header\n",
    "img_urls = [\n",
    "    'https://image-comic.pstatic.net/webtoon/626906/602/20200720170605_25afe583d26a90598d9dc108ff5f5c98_IMAG01_1.jpg',\n",
    "    'https://image-comic.pstatic.net/webtoon/626906/602/20200720170605_25afe583d26a90598d9dc108ff5f5c98_IMAG01_2.jpg',\n",
    "    'https://image-comic.pstatic.net/webtoon/626906/602/20200720170605_25afe583d26a90598d9dc108ff5f5c98_IMAG01_3.jpg'\n",
    "]\n",
    "for img_url in img_urls:\n",
    "    res = requests.get(img_url, headers=req_header) #headers 꼭 필요\n",
    "    img_data = res.content #content -> 이미지 데이터 응답    text -> 문자열 데이터 응답\n",
    "    file_name = os.path.basename(img_url)\n",
    "    print(file_name) ##이미지 이름만 추출\n",
    "    with open(file_name, 'wb') as file:\n",
    "        print('Writing to{} ({} bytes)'.format(file_name, len(img_data)))\n",
    "        file.write(img_data) ##파일 다운 "
   ]
  },
  {
   "cell_type": "markdown",
   "metadata": {},
   "source": [
    "### format 메서드\n",
    "* format() : 문자열 만들 때 서식 지정자 방식보다 간단한 문자열 포매팅\n",
    "* '{인덱스 또는 공백}'.format(값)\n",
    "   'hello, {0} {2} {1}'.format('python','script',3.6)\n",
    "   => hello, python 3.6 script\n",
    "   'Hello, {language} {version}'.format(language='Python', version=3.6)\n",
    "   => Hello, Python 3.6\n",
    "* format 말고 문자열 앞에 f쓰기\n",
    "   language = 'Python'\n",
    "   version = 3.6\n",
    "   f'Hello, {language} {version}'\n",
    "   => Hello, Python 3.6"
   ]
  },
  {
   "cell_type": "markdown",
   "metadata": {},
   "source": [
    "# 2. 웹툰 이미지 업로드\n",
    "* http://httpbin.org/post 사이트에 다운 받은 이미지 파일 업로드\n",
    "* request의 post() 함수를 사용하고 file 속성에 image data 지정\n"
   ]
  },
  {
   "cell_type": "code",
   "execution_count": 39,
   "metadata": {},
   "outputs": [
    {
     "data": {
      "text/plain": [
       "200"
      ]
     },
     "execution_count": 39,
     "metadata": {},
     "output_type": "execute_result"
    }
   ],
   "source": [
    "import requests\n",
    "\n",
    "upload_files_dict ={\n",
    "    'img1':open('f1.jpg', 'rb'),\n",
    "    'img2':open('f2.jpg', 'rb'),\n",
    "    'img3':open('f3.jpg', 'rb'),\n",
    "}\n",
    "#upload_files_dict\n",
    "url = 'http://httpbin.org/post'\n",
    "res = requests.post(url, files=upload_files_dict)\n",
    "res.status_code"
   ]
  },
  {
   "cell_type": "code",
   "execution_count": 40,
   "metadata": {
    "scrolled": true
   },
   "outputs": [
    {
     "data": {
      "text/plain": [
       "308261"
      ]
     },
     "execution_count": 40,
     "metadata": {},
     "output_type": "execute_result"
    }
   ],
   "source": [
    "#res.json() 모든파일 다보여줌\n",
    "img3 = res.json()['files']['img3']\n",
    "len(img3) ###왠지 모르겠지만 다르게 나옴\n",
    "#img3 #이걸 복사해서 파이참에 html파일에 넣으면 이미지 복사됨"
   ]
  },
  {
   "cell_type": "markdown",
   "metadata": {},
   "source": [
    "# HTTP 메서드\n",
    "* GET/POST\n",
    "- GET\n",
    "  : 엽서(편지만 보낼 수 있음)\n",
    "  : 주소와 함계 메시지 남김\n",
    "  : 파일 업로드 불가\n",
    "  : 잘 설계된 서비스라면 주로 조회 요청시 사용\n",
    "- POST\n",
    "  : 택배(편지, 물건 등등 보낼 수 있음)\n",
    "  : 주소와 함께 메시지, 물건 보낼 수 있음\n",
    "  : 파일 업로드 지원\n",
    "  : 잘 설계된 서비스에서 주로 추가/수정/삭제 요청시 사용"
   ]
  },
  {
   "cell_type": "code",
   "execution_count": null,
   "metadata": {},
   "outputs": [],
   "source": []
  },
  {
   "cell_type": "code",
   "execution_count": null,
   "metadata": {},
   "outputs": [],
   "source": []
  },
  {
   "cell_type": "code",
   "execution_count": null,
   "metadata": {},
   "outputs": [],
   "source": []
  },
  {
   "cell_type": "code",
   "execution_count": null,
   "metadata": {},
   "outputs": [],
   "source": []
  },
  {
   "cell_type": "code",
   "execution_count": null,
   "metadata": {},
   "outputs": [],
   "source": []
  },
  {
   "cell_type": "code",
   "execution_count": null,
   "metadata": {},
   "outputs": [],
   "source": []
  },
  {
   "cell_type": "code",
   "execution_count": null,
   "metadata": {},
   "outputs": [],
   "source": []
  },
  {
   "cell_type": "code",
   "execution_count": null,
   "metadata": {},
   "outputs": [],
   "source": []
  },
  {
   "cell_type": "code",
   "execution_count": null,
   "metadata": {},
   "outputs": [],
   "source": []
  },
  {
   "cell_type": "code",
   "execution_count": null,
   "metadata": {},
   "outputs": [],
   "source": []
  },
  {
   "cell_type": "code",
   "execution_count": null,
   "metadata": {},
   "outputs": [],
   "source": []
  },
  {
   "cell_type": "code",
   "execution_count": null,
   "metadata": {},
   "outputs": [],
   "source": []
  }
 ],
 "metadata": {
  "kernelspec": {
   "display_name": "Python 3",
   "language": "python",
   "name": "python3"
  },
  "language_info": {
   "codemirror_mode": {
    "name": "ipython",
    "version": 3
   },
   "file_extension": ".py",
   "mimetype": "text/x-python",
   "name": "python",
   "nbconvert_exporter": "python",
   "pygments_lexer": "ipython3",
   "version": "3.7.6"
  }
 },
 "nbformat": 4,
 "nbformat_minor": 2
}
