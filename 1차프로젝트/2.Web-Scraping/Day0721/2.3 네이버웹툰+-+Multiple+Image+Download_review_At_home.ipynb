{
 "cells": [
  {
   "cell_type": "code",
   "execution_count": 7,
   "metadata": {},
   "outputs": [
    {
     "name": "stdout",
     "output_type": "stream",
     "text": [
      "200\n",
      "[<a href=\"/webtoon/list.nhn?titleId=695796\" onclick=\"nclk_v2(event,'rcn*o.title','695796','1')\">\n",
      "<span>내일</span>\n",
      "</a>, <a href=\"/webtoon/list.nhn?titleId=724274\" onclick=\"nclk_v2(event,'rcn*o.title','724274','2')\">\n",
      "<span>먹이</span>\n",
      "</a>, <a href=\"/webtoon/list.nhn?titleId=746834\" onclick=\"nclk_v2(event,'rcn*o.title','746834','3')\">\n",
      "<span>청춘 블라썸</span>\n",
      "</a>, <a href=\"/webtoon/list.nhn?titleId=740377\" onclick=\"nclk_v2(event,'rcn*o.title','740377','4')\">\n",
      "<span>신상 미스터리 극장</span>\n",
      "</a>, <a href=\"/webtoon/list.nhn?titleId=732036\" onclick=\"nclk_v2(event,'rcn*o.title','732036','5')\">\n",
      "<span>후덜덜덜 남극전자</span>\n",
      "</a>, <a href=\"/webtoon/list.nhn?titleId=726095\" onclick=\"nclk_v2(event,'rcn*o.title','726095','6')\">\n",
      "<span>살人스타그램</span>\n",
      "</a>]\n"
     ]
    }
   ],
   "source": [
    "# 네이버 웹툰 메인 페이지에서 만화 제목과 링크를 추출해서 list에 저장\n",
    "import os #운영체제와 상호착용\n",
    "import requests #http 요청을 주고 받는 라이브러리\n",
    "from bs4 import BeautifulSoup #parsing\n",
    "from urllib.parse import urljoin # urljoin\n",
    "\n",
    "url = 'https://comic.naver.com/index.nhn'\n",
    "\n",
    "response = requests.get(url) #get: 서버로부터 정보 조회\n",
    "print(response.status_code)\n",
    "soup = BeautifulSoup(response.text, 'html.parser')\n",
    "\n",
    "a_tag_list = soup.select('.genreRecomInfo2 h6 a')\n",
    "print(a_tag_list)"
   ]
  },
  {
   "cell_type": "code",
   "execution_count": 11,
   "metadata": {},
   "outputs": [
    {
     "name": "stdout",
     "output_type": "stream",
     "text": [
      "내일 https://comic.naver.com/webtoon/list.nhn?titleId=695796\n",
      "먹이 https://comic.naver.com/webtoon/list.nhn?titleId=724274\n",
      "청춘 블라썸 https://comic.naver.com/webtoon/list.nhn?titleId=746834\n",
      "신상 미스터리 극장 https://comic.naver.com/webtoon/list.nhn?titleId=740377\n",
      "후덜덜덜 남극전자 https://comic.naver.com/webtoon/list.nhn?titleId=732036\n",
      "살人스타그램 https://comic.naver.com/webtoon/list.nhn?titleId=726095\n",
      "6\n",
      "[{'title': '내일', 'link': 'https://comic.naver.com/webtoon/list.nhn?titleId=695796'}, {'title': '먹이', 'link': 'https://comic.naver.com/webtoon/list.nhn?titleId=724274'}, {'title': '청춘 블라썸', 'link': 'https://comic.naver.com/webtoon/list.nhn?titleId=746834'}, {'title': '신상 미스터리 극장', 'link': 'https://comic.naver.com/webtoon/list.nhn?titleId=740377'}, {'title': '후덜덜덜 남극전자', 'link': 'https://comic.naver.com/webtoon/list.nhn?titleId=732036'}, {'title': '살人스타그램', 'link': 'https://comic.naver.com/webtoon/list.nhn?titleId=726095'}]\n"
     ]
    }
   ],
   "source": [
    "webtoon_list =[]\n",
    "for a_tag in a_tag_list:\n",
    "    link = urljoin(url,a_tag['href'])\n",
    "    title = a_tag.text.strip()\n",
    "    print(title,link)\n",
    "    webtoon_dict = {'title': title, 'link':link}\n",
    "    webtoon_list.append(webtoon_dict)\n",
    "    webtoon_dict = {}# 초기화\n",
    "print(len(webtoon_list)) \n",
    "print(webtoon_list)"
   ]
  },
  {
   "cell_type": "code",
   "execution_count": 16,
   "metadata": {},
   "outputs": [
    {
     "name": "stdout",
     "output_type": "stream",
     "text": [
      "=========================== 내일 165화\n",
      "=========================== 내일 164화\n",
      "=========================== 내일 163화\n",
      "=========================== 내일 162화\n",
      "=========================== 내일 161화\n",
      "=========================== 내일 160화\n",
      "=========================== 내일 159화\n",
      "=========================== 내일 158화\n",
      "=========================== 내일 157화\n",
      "=========================== 내일 156화\n",
      "=========================== 먹이 2부 26화\n",
      "=========================== 먹이 2부 25화\n",
      "=========================== 먹이 2부 24화\n",
      "=========================== 먹이 2부 23화\n",
      "=========================== 먹이 2부 22화\n",
      "=========================== 먹이 2부 21화\n",
      "=========================== 먹이 2부 20화\n",
      "=========================== 먹이 2부 19화\n",
      "=========================== 먹이 2부 18화\n",
      "=========================== 먹이 2부 17화\n"
     ]
    }
   ],
   "source": [
    "# 회차 페이지 주소와 회차 링크\n",
    "for webtoon_link in webtoon_list[0:2]:\n",
    "    link = webtoon_link['link']\n",
    "    response = requests.get(link)\n",
    "    soup = BeautifulSoup(response.text, 'html.parser')\n",
    "    title = webtoon_link['title']\n",
    "    a_tag_list = soup.select('td.title > a')\n",
    "    for a_tag in a_tag_list:\n",
    "        link2 = urljoin(link, a_tag['href'])\n",
    "        #회차 제목\n",
    "        seq = a_tag.text\n",
    "        \n",
    "        # 글젝목에 '화' 라는 문자열이 있으면\n",
    "        if '화' in seq:\n",
    "            my_index = seq.index('화') \n",
    "            # index() : 인덱스의 위치 반환\n",
    "            #화 문자열의 인덱스 기준으로 앞의 문자열을 슬라이싱\n",
    "            # '123화' 라면 화가 인덱스 '3', 0123까지 출력해줘야 하니까\n",
    "            # index+1까지 \n",
    "            seq = seq[:my_index+1]\n",
    "        print('===========================',title,seq)\n",
    "        #write_image(title, seq, link2)"
   ]
  }
 ],
 "metadata": {
  "kernelspec": {
   "display_name": "Python 3",
   "language": "python",
   "name": "python3"
  },
  "language_info": {
   "codemirror_mode": {
    "name": "ipython",
    "version": 3
   },
   "file_extension": ".py",
   "mimetype": "text/x-python",
   "name": "python",
   "nbconvert_exporter": "python",
   "pygments_lexer": "ipython3",
   "version": "3.7.6"
  }
 },
 "nbformat": 4,
 "nbformat_minor": 4
}
