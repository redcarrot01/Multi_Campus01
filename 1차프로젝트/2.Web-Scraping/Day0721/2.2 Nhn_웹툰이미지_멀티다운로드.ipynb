{
 "cells": [
  {
   "cell_type": "markdown",
   "metadata": {},
   "source": [
    "## 특정 웹툰 페이지의 모든 image 다운로드 하기\n",
    "* soup.select('img[src$=.jpg]') #$ \"~~\"로 끝나는 거 \n",
    "* 이미지 파일 생성하고 img 폴더 하위에 파일 저장"
   ]
  },
  {
   "cell_type": "markdown",
   "metadata": {},
   "source": [
    "### css선택자\n",
    ".class : class=\"class\"의 모든 요소를 선택\n",
    "#id : id=\"id\" 의 모든 요소 선택\n",
    "* : 전체선택자 - 모든 요소 선택\n",
    "* element element : 자손선택자 - 상위 요소 아래 하위 요소 모두 선택\n",
    "* element>element : 자식 선택자 - 바로 아래 하위 요소만 선택\n",
    "\n"
   ]
  },
  {
   "cell_type": "code",
   "execution_count": 4,
   "metadata": {},
   "outputs": [
    {
     "name": "stdout",
     "output_type": "stream",
     "text": [
      "https://shared-comic.pstatic.net/thumb/webtoon/626906/thumbnail/title_thumbnail_20150810235651_t218x120.jpg\n",
      "https://image-comic.pstatic.net/webtoon/626906/602/20200720170605_25afe583d26a90598d9dc108ff5f5c98_IMAG01_1.jpg\n",
      "https://image-comic.pstatic.net/webtoon/626906/602/20200720170605_25afe583d26a90598d9dc108ff5f5c98_IMAG01_2.jpg\n",
      "https://image-comic.pstatic.net/webtoon/626906/602/20200720170605_25afe583d26a90598d9dc108ff5f5c98_IMAG01_3.jpg\n",
      "https://image-comic.pstatic.net/webtoon/626906/602/20200720170605_25afe583d26a90598d9dc108ff5f5c98_IMAG01_4.jpg\n",
      "https://image-comic.pstatic.net/webtoon/626906/602/20200720170605_25afe583d26a90598d9dc108ff5f5c98_IMAG01_5.jpg\n",
      "https://image-comic.pstatic.net/webtoon/626906/602/20200720170605_25afe583d26a90598d9dc108ff5f5c98_IMAG01_6.jpg\n",
      "https://image-comic.pstatic.net/webtoon/626906/602/20200720170605_25afe583d26a90598d9dc108ff5f5c98_IMAG01_7.jpg\n",
      "https://image-comic.pstatic.net/webtoon/626906/602/20200720170605_25afe583d26a90598d9dc108ff5f5c98_IMAG01_8.jpg\n",
      "https://image-comic.pstatic.net/webtoon/626906/602/20200720170605_25afe583d26a90598d9dc108ff5f5c98_IMAG01_9.jpg\n",
      "https://image-comic.pstatic.net/webtoon/626906/602/20200720170605_25afe583d26a90598d9dc108ff5f5c98_IMAG01_10.jpg\n",
      "https://image-comic.pstatic.net/webtoon/626906/602/20200720170605_25afe583d26a90598d9dc108ff5f5c98_IMAG01_11.jpg\n",
      "https://image-comic.pstatic.net/webtoon/626906/602/20200720170605_25afe583d26a90598d9dc108ff5f5c98_IMAG01_12.jpg\n",
      "https://image-comic.pstatic.net/webtoon/626906/602/20200720170605_25afe583d26a90598d9dc108ff5f5c98_IMAG01_13.jpg\n",
      "https://image-comic.pstatic.net/webtoon/626906/602/20200720170605_25afe583d26a90598d9dc108ff5f5c98_IMAG01_14.jpg\n",
      "https://image-comic.pstatic.net/webtoon/626906/602/20200720170605_25afe583d26a90598d9dc108ff5f5c98_IMAG01_15.jpg\n",
      "https://shared-comic.pstatic.net/thumb/webtoon/626906/599/thumbnail_202x120_a67685f1-2838-4f48-8b94-21fde8dc0803.jpg\n",
      "https://shared-comic.pstatic.net/thumb/webtoon/626906/600/thumbnail_202x120_7b8898b1-39c2-4730-a703-877ec4cb1b0c.jpg\n",
      "https://shared-comic.pstatic.net/thumb/webtoon/626906/601/thumbnail_202x120_df2399c5-6e37-4a0c-9e3f-ce6059f599d2.jpg\n",
      "https://shared-comic.pstatic.net/thumb/webtoon/626906/602/thumbnail_202x120_8cc7212c-63d3-433e-8204-c70486fd2c2d.jpg\n",
      "https://shared-comic.pstatic.net/thumb/webtoon/626906/603/thumbnail_202x120_c8149bb6-2179-4181-ae10-cd646c3e1161.jpg\n",
      "https://shared-comic.pstatic.net/thumb/webtoon/25613/thumbnail/title_thumbnail_20140103150651_t83x90.jpg\n",
      "https://shared-comic.pstatic.net/thumb/webtoon/563782/thumbnail/title_thumbnail_20130607184714_t83x90.jpg\n",
      "https://shared-comic.pstatic.net/thumb/webtoon/55143/thumbnail/title_thumbnail_20120329122039_t83x90.jpg\n",
      "https://shared-comic.pstatic.net/thumb/webtoon/318992/thumbnail/title_thumbnail_20110408115556_t83x90.jpg\n",
      "Writing to title_thumbnail_20110408115556_t83x90.jpg (7838 bytes)\n"
     ]
    }
   ],
   "source": [
    "import requests\n",
    "from bs4 import BeautifulSoup\n",
    "import os #저장할때\n",
    "\n",
    "main_url='https://comic.naver.com/webtoon/detail.nhn?titleId=626906&no=602&amp;weekday=tue'\n",
    "res = requests.get(main_url)\n",
    "html = res.text\n",
    "soup = BeautifulSoup(html, 'html.parser')\n",
    "#웹상에서 특정 문자열 가져오는 방법 두가지\n",
    "# 정규 표현식, html parser => beautifulSoup4 \n",
    "#사용법 soup = BeautifulSoup(파싱할문자열, 'html.parser')\n",
    "\n",
    "#url 저장할 리스트 \n",
    "img_urls = []\n",
    "#soup.select(\"img[src$='.jpg']\")\n",
    "\n",
    "for img_url in soup.select(\"img[src$='.jpg']\"):\n",
    "    #rint(img_url)\n",
    "    img_urls.append(img_url['src'])\n",
    "#위부분은 다 가져오는 것이므로 src만 가져와야 한다\n",
    "    \n",
    "#print(len(img_urls),img_urls)    \n",
    "\n",
    "#디렉토리 생성\n",
    "if not os.path.isdir('img'):\n",
    "    os.mkdir('img')\n",
    "        \n",
    "#header 파일 이용해서 머하라고 한거 같은데\n",
    "#아무생각없다\n",
    "# 특정  화 에 있는 이미지 다 긁어온 것임\n",
    "\n",
    "for img_url in img_urls:\n",
    "    print(img_url)\n",
    "    req_header = {\n",
    "        'referer':main_url\n",
    "    }\n",
    " \n",
    "res2 = requests.get(img_url, headers=req_header)## gea\n",
    "img_data = res2.content\n",
    "file_name = os.path.basename(img_url)\n",
    "with open('img/'+file_name,'wb') as file:\n",
    "    print('Writing to {} ({} bytes)'.format(file_name,len(img_data)))\n",
    "    file.write(img_data)\n",
    "\n"
   ]
  },
  {
   "cell_type": "markdown",
   "metadata": {},
   "source": [
    "### 특정웹툰의 image 다운로드를 함수로 선언하기"
   ]
  },
  {
   "cell_type": "code",
   "execution_count": 5,
   "metadata": {},
   "outputs": [],
   "source": [
    "###############3여기부터 나중에 하기\n",
    "def write_image(title,main_url):\n",
    "    print(title, main_url)\n",
    "    import requests\n",
    "    from bs4 import BeautifulSoup\n",
    "    import os #저장할때\n",
    "\n",
    "    #ain_url='https://comic.naver.com/webtoon/detail.nhn?titleId=626906&no=602&amp;weekday=tue'\n",
    "    res = requests.get(main_url)\n",
    "    html = res.text\n",
    "    soup = BeautifulSoup(html, 'html.parser')\n",
    "    #soup\n",
    "\n",
    "    #url 저장할 리스트 \n",
    "    img_urls = []\n",
    "    #soup.select(\"img[src$='.jpg']\")\n",
    "\n",
    "    for img_url in soup.select(\"img[src$='.jpg']\"):\n",
    "        # select() :  발견한 모든 엘리먼트를 리스트 형식으로 반환\n",
    "        #print(img_url)\n",
    "        img_urls.append(img_url['src'])\n",
    "    #이부분은 다 가져오는 것이므로 src만 가져와야 하낟\n",
    "\n",
    "    #print(len(img_urls),img_urls)    \n",
    "\n",
    "    #디렉토리 생성\n",
    "    \n",
    "    dir_name = 'img/' + title\n",
    "    if not os.path.isdir(dir_name):\n",
    "        os.mkdir(dir_name)\n",
    "\n",
    "    print(len(img_urls))\n",
    "    for img_url in img_urls:\n",
    "        #print(img_url)\n",
    "        req_header = {\n",
    "            'referer':main_url\n",
    "        }\n",
    "\n",
    "        res2 = requests.get(img_url, headers=req_header)\n",
    "        img_data = res2.content\n",
    "        file_name = os.path.basename(img_url)\n",
    "        with open(dir_name+'/'+file_name,'wb') as file:\n",
    "            print('Writing to {} ({} bytes)'.format(file_name,len(img_data)))\n",
    "            file.write(img_data)\n",
    "        \n",
    "        \n",
    "        "
   ]
  },
  {
   "cell_type": "code",
   "execution_count": 49,
   "metadata": {},
   "outputs": [
    {
     "name": "stdout",
     "output_type": "stream",
     "text": [
      "마음의소리 https://comic.naver.com/webtoon/detail.nhn?titleId=20853&no=1236\n",
      "33\n",
      "Writing to thumbnail_IMAG04_cf1a50d1-2a53-4e95-8f73-1314533c74c1.jpg (38371 bytes)\n",
      "Writing to 20200720114244_fa96de82e0f47d6bf20dfc76b3944eb7_IMAG01_1.jpg (150250 bytes)\n",
      "Writing to 20200720114244_fa96de82e0f47d6bf20dfc76b3944eb7_IMAG01_2.jpg (148647 bytes)\n",
      "Writing to 20200720114244_fa96de82e0f47d6bf20dfc76b3944eb7_IMAG01_3.jpg (107514 bytes)\n",
      "Writing to 20200720114244_fa96de82e0f47d6bf20dfc76b3944eb7_IMAG01_4.jpg (101797 bytes)\n",
      "Writing to 20200720114244_fa96de82e0f47d6bf20dfc76b3944eb7_IMAG01_5.jpg (163050 bytes)\n",
      "Writing to 20200720114244_fa96de82e0f47d6bf20dfc76b3944eb7_IMAG01_6.jpg (134504 bytes)\n",
      "Writing to 20200720114244_fa96de82e0f47d6bf20dfc76b3944eb7_IMAG01_7.jpg (100417 bytes)\n",
      "Writing to 20200720114244_fa96de82e0f47d6bf20dfc76b3944eb7_IMAG01_8.jpg (142715 bytes)\n",
      "Writing to 20200720114244_fa96de82e0f47d6bf20dfc76b3944eb7_IMAG01_9.jpg (144513 bytes)\n",
      "Writing to 20200720114244_fa96de82e0f47d6bf20dfc76b3944eb7_IMAG01_10.jpg (136698 bytes)\n",
      "Writing to 20200720114244_fa96de82e0f47d6bf20dfc76b3944eb7_IMAG01_11.jpg (189110 bytes)\n",
      "Writing to 20200720114244_fa96de82e0f47d6bf20dfc76b3944eb7_IMAG01_12.jpg (151724 bytes)\n",
      "Writing to 20200720114244_fa96de82e0f47d6bf20dfc76b3944eb7_IMAG01_13.jpg (90064 bytes)\n",
      "Writing to 20200720114244_fa96de82e0f47d6bf20dfc76b3944eb7_IMAG01_14.jpg (116455 bytes)\n",
      "Writing to 20200720114244_fa96de82e0f47d6bf20dfc76b3944eb7_IMAG01_15.jpg (131668 bytes)\n",
      "Writing to 20200720114244_fa96de82e0f47d6bf20dfc76b3944eb7_IMAG01_16.jpg (156437 bytes)\n",
      "Writing to 20200720114244_fa96de82e0f47d6bf20dfc76b3944eb7_IMAG01_17.jpg (130185 bytes)\n",
      "Writing to 20200720114244_fa96de82e0f47d6bf20dfc76b3944eb7_IMAG01_18.jpg (110595 bytes)\n",
      "Writing to 20200720114244_fa96de82e0f47d6bf20dfc76b3944eb7_IMAG01_19.jpg (99776 bytes)\n",
      "Writing to 20200720114244_fa96de82e0f47d6bf20dfc76b3944eb7_IMAG01_20.jpg (94265 bytes)\n",
      "Writing to 20200720114244_fa96de82e0f47d6bf20dfc76b3944eb7_IMAG01_21.jpg (104271 bytes)\n",
      "Writing to 20200720114244_fa96de82e0f47d6bf20dfc76b3944eb7_IMAG01_22.jpg (60918 bytes)\n",
      "Writing to thumbnail_202x120_d4118a4e-1cfc-4d82-93f4-faf3c756c635.jpg (29047 bytes)\n",
      "Writing to thumbnail_202x120_eb1eb593-ec60-48c3-bee0-54772e5b6c39.jpg (27982 bytes)\n",
      "Writing to thumbnail_202x120_5b4dbd00-e036-46e9-b68f-51d041a0c8ba.jpg (34739 bytes)\n",
      "Writing to thumbnail_202x120_2815c1cf-ef69-4c55-bd60-ad322c53b3d3.jpg (24346 bytes)\n",
      "Writing to thumbnail_IMAG06_7ef2edff-f2fa-494c-ab2d-ce67d1324ad7.jpg (152447 bytes)\n",
      "Writing to thumbnail_IMAG10_51c242df-2c42-46e6-91d6-bbba062b3f21.jpg (13306 bytes)\n",
      "Writing to thumbnail_IMAG10_7d08e994-e6e9-437f-9001-e3cd28892a8a.jpg (10283 bytes)\n",
      "Writing to title_thumbnail_20160601180804_t83x90.jpg (4436 bytes)\n",
      "Writing to title_thumbnail_20160602180035_t83x90.jpg (7842 bytes)\n",
      "Writing to title_thumbnail_20160322113739_t83x90.jpg (11063 bytes)\n"
     ]
    }
   ],
   "source": [
    "write_image('마음의소리','https://comic.naver.com/webtoon/detail.nhn?titleId=20853&no=1236')"
   ]
  },
  {
   "cell_type": "code",
   "execution_count": null,
   "metadata": {},
   "outputs": [],
   "source": []
  },
  {
   "cell_type": "markdown",
   "metadata": {},
   "source": [
    "#웹툰메인페이지 스크래핑\n",
    "* 추천 웹툰의 title과 link를 가져오기\n",
    "* {title: '한림체육관',link:'https://comic.naver.com/webtoon/list.nhn?titleId=626906'}\n",
    "* 이것을 \n",
    "[\n",
    "    {title: \"link:\"},{},{}\n",
    "]\n"
   ]
  },
  {
   "cell_type": "markdown",
   "metadata": {},
   "source": [
    "### SELECT()\n",
    "* BeautifulSoup 사용해서 html 내 원하는 부분 추출\n",
    "  soup.select('원하는 정보')  # select('원하는 정보') -->  단 하나만 있더라도, 복수 가능한 형태로 되어있음\n",
    "\n",
    "  soup.select('태그명')\n",
    "  soup.select('.클래스명')\n",
    "  soup.select('상위태그명 > 하위태그명 > 하위태그명')\n",
    "  soup.select('상위태그명.클래스명 > 하위태그명.클래스명')    # 바로 아래의(자식) 태그를 선택시에는 > 기호를 사용\n",
    "  soup.select('상위태그명.클래스명 하~위태그명')              # 아래의(자손) 태그를 선택시에는   띄어쓰기 사용\n",
    "  soup.select('상위태그명 > 바로아래태그명 하~위태그명')     \n",
    "  soup.select('.클래스명')\n",
    "  soup.select('#아이디명')                  # 태그는 여러개에 사용 가능하나 아이디는 한번만 사용 가능함! ==> 선택하기 좋음\n",
    "  soup.select('태그명.클래스명)\n",
    "  soup.select('#아이디명 > 태그명.클래스명)\n",
    "  soup.select('태그명[속성1=값1]')"
   ]
  },
  {
   "cell_type": "code",
   "execution_count": 62,
   "metadata": {},
   "outputs": [
    {
     "name": "stdout",
     "output_type": "stream",
     "text": [
      "6\n",
      "에이머 https://comic.naver.com/webtoon/list.nhn?titleId=400739\n",
      "그날 죽은 나는 https://comic.naver.com/webtoon/list.nhn?titleId=731019\n",
      "언메이크 https://comic.naver.com/webtoon/list.nhn?titleId=746535\n",
      "킬링타임 https://comic.naver.com/webtoon/list.nhn?titleId=731063\n",
      "사신소년 https://comic.naver.com/webtoon/list.nhn?titleId=730656\n",
      "그놈은 흑염룡 https://comic.naver.com/webtoon/list.nhn?titleId=733080\n"
     ]
    },
    {
     "data": {
      "text/plain": [
       "[{'title': '에이머',\n",
       "  'link': 'https://comic.naver.com/webtoon/list.nhn?titleId=400739'},\n",
       " {'title': '그날 죽은 나는',\n",
       "  'link': 'https://comic.naver.com/webtoon/list.nhn?titleId=731019'},\n",
       " {'title': '언메이크',\n",
       "  'link': 'https://comic.naver.com/webtoon/list.nhn?titleId=746535'},\n",
       " {'title': '킬링타임',\n",
       "  'link': 'https://comic.naver.com/webtoon/list.nhn?titleId=731063'},\n",
       " {'title': '사신소년',\n",
       "  'link': 'https://comic.naver.com/webtoon/list.nhn?titleId=730656'},\n",
       " {'title': '그놈은 흑염룡',\n",
       "  'link': 'https://comic.naver.com/webtoon/list.nhn?titleId=733080'}]"
      ]
     },
     "execution_count": 62,
     "metadata": {},
     "output_type": "execute_result"
    }
   ],
   "source": [
    "import requests\n",
    "from bs4 import BeautifulSoup\n",
    "from urllib.parse import urljoin\n",
    "#urljoin : \n",
    "main_url = 'https://comic.naver.com/index.nhn'\n",
    "\n",
    "res = requests.get(main_url) \n",
    "html = res.text\n",
    "soup = BeautifulSoup(html, 'html.parser')\n",
    "# print(type(soup.select('#genreRecommand li > div > a')))#무슨뜻 ul-li, ul밑에 있는 모든  li 가져와\n",
    "# print(len(soup.select('#genreRecommand li >  div > a')))\n",
    "#특정 ul을 가져와야 \n",
    "\n",
    "print(len(soup.select('#genreRecommand h6 a')))\n",
    "webtoon_list=[]\n",
    "for a_tag in soup.select('#genreRecommand h6 a'):\n",
    "    title = a_tag.text.strip() # 공백 없애주는 줄간격에서\n",
    "    link = urljoin(main_url,a_tag['href']) #urljoin:다른 url과 결합하여 절대url 형식으로 변환\n",
    "    print(title, link)\n",
    "    \n",
    "    #딕셔너리 만들기\n",
    "    webtoon_dict = {\"title\": title, \"link\":link}\n",
    "    webtoon_list.append(webtoon_dict)\n",
    "    \n",
    "webtoon_list    \n",
    "\n"
   ]
  },
  {
   "cell_type": "code",
   "execution_count": 2,
   "metadata": {},
   "outputs": [
    {
     "name": "stdout",
     "output_type": "stream",
     "text": [
      "https://comic.naver.com/webtoon/detail.nhn?titleId=626906&no=603\n",
      "https://comic.naver.com/webtoon/detail.nhn?titleId=748105&no=13\n",
      "https://comic.naver.com/webtoon/detail.nhn?titleId=732955&no=96\n",
      "https://comic.naver.com/webtoon/detail.nhn?titleId=710751&no=112\n",
      "https://comic.naver.com/webtoon/detail.nhn?titleId=697535&no=161\n",
      "https://comic.naver.com/webtoon/detail.nhn?titleId=743721&no=15\n"
     ]
    },
    {
     "data": {
      "text/plain": [
       "[{'title': '패밀리 사이즈',\n",
       "  'link': 'https://comic.naver.com/webtoon/list.nhn?titleId=626906',\n",
       "  'detail_link': 'https://comic.naver.com/webtoon/detail.nhn?titleId=626906&no=603'},\n",
       " {'title': '독립일기',\n",
       "  'link': 'https://comic.naver.com/webtoon/list.nhn?titleId=748105',\n",
       "  'detail_link': 'https://comic.naver.com/webtoon/detail.nhn?titleId=748105&no=13'},\n",
       " {'title': '닥터앤닥터 육아일기',\n",
       "  'link': 'https://comic.naver.com/webtoon/list.nhn?titleId=732955',\n",
       "  'detail_link': 'https://comic.naver.com/webtoon/detail.nhn?titleId=732955&no=96'},\n",
       " {'title': '약한영웅',\n",
       "  'link': 'https://comic.naver.com/webtoon/list.nhn?titleId=710751',\n",
       "  'detail_link': 'https://comic.naver.com/webtoon/detail.nhn?titleId=710751&no=112'},\n",
       " {'title': '웅이는 배고파',\n",
       "  'link': 'https://comic.naver.com/webtoon/list.nhn?titleId=697535',\n",
       "  'detail_link': 'https://comic.naver.com/webtoon/detail.nhn?titleId=697535&no=161'},\n",
       " {'title': '불발소년',\n",
       "  'link': 'https://comic.naver.com/webtoon/list.nhn?titleId=743721',\n",
       "  'detail_link': 'https://comic.naver.com/webtoon/detail.nhn?titleId=743721&no=15'}]"
      ]
     },
     "execution_count": 2,
     "metadata": {},
     "output_type": "execute_result"
    }
   ],
   "source": [
    "import requests\n",
    "from bs4 import BeautifulSoup\n",
    "from urllib.parse import urljoin\n",
    "\n",
    "main_url = 'https://comic.naver.com/index.nhn'\n",
    "\n",
    "res = requests.get(main_url) \n",
    "html = res.text\n",
    "soup = BeautifulSoup(html, 'html.parser')\n",
    "\n",
    "webtoon_list=[]\n",
    "webtoon_dict={}\n",
    "for div_tag in soup.select('.genreRecomInfo2'):\n",
    "    for a_tag1 in div_tag.select('h6 a'):#셀렉트 함수 자체가 (div~~ )얘 리스트임\n",
    "        title = a_tag1.text.strip()\n",
    "        link = urljoin(main_url, a_tag1['href'])\n",
    "        webtoon_dict[\"title\"]=title\n",
    "        webtoon_dict[\"link\"]=link\n",
    "    for a_tag2 in div_tag.select('p a'):\n",
    "        detail_link = urljoin(main_url,a_tag2['href'])\n",
    "        print(detail_link)\n",
    "        webtoon_dict[\"detail_link\"]=detail_link\n",
    "    webtoon_list.append(webtoon_dict)\n",
    "    webtoon_dict={}\n",
    "    # 초기화 너무 당연... 작품 하나당 dict 하나, \n",
    "    # 6개의 dict 만들어서 넣어줘야 하니까\n",
    "    # 밖에 선언하고 내부에선 초기화 해줘야..\n",
    "    \n",
    "webtoon_list    \n",
    "    \n",
    "    #####띠용띠용 \n",
    "    #####"
   ]
  },
  {
   "cell_type": "code",
   "execution_count": 15,
   "metadata": {},
   "outputs": [
    {
     "name": "stdout",
     "output_type": "stream",
     "text": [
      "{'title': '패밀리 사이즈', 'link': 'https://comic.naver.com/webtoon/list.nhn?titleId=626906', 'detail_link': 'https://comic.naver.com/webtoon/detail.nhn?titleId=626906&no=603'}\n",
      "0 패밀리 사이즈 https://comic.naver.com/webtoon/detail.nhn?titleId=626906&no=603\n",
      "{'title': '독립일기', 'link': 'https://comic.naver.com/webtoon/list.nhn?titleId=748105', 'detail_link': 'https://comic.naver.com/webtoon/detail.nhn?titleId=748105&no=13'}\n",
      "1 독립일기 https://comic.naver.com/webtoon/detail.nhn?titleId=748105&no=13\n",
      "{'title': '닥터앤닥터 육아일기', 'link': 'https://comic.naver.com/webtoon/list.nhn?titleId=732955', 'detail_link': 'https://comic.naver.com/webtoon/detail.nhn?titleId=732955&no=96'}\n",
      "2 닥터앤닥터 육아일기 https://comic.naver.com/webtoon/detail.nhn?titleId=732955&no=96\n",
      "{'title': '약한영웅', 'link': 'https://comic.naver.com/webtoon/list.nhn?titleId=710751', 'detail_link': 'https://comic.naver.com/webtoon/detail.nhn?titleId=710751&no=112'}\n",
      "3 약한영웅 https://comic.naver.com/webtoon/detail.nhn?titleId=710751&no=112\n",
      "{'title': '웅이는 배고파', 'link': 'https://comic.naver.com/webtoon/list.nhn?titleId=697535', 'detail_link': 'https://comic.naver.com/webtoon/detail.nhn?titleId=697535&no=161'}\n",
      "4 웅이는 배고파 https://comic.naver.com/webtoon/detail.nhn?titleId=697535&no=161\n",
      "{'title': '불발소년', 'link': 'https://comic.naver.com/webtoon/list.nhn?titleId=743721', 'detail_link': 'https://comic.naver.com/webtoon/detail.nhn?titleId=743721&no=15'}\n",
      "5 불발소년 https://comic.naver.com/webtoon/detail.nhn?titleId=743721&no=15\n"
     ]
    }
   ],
   "source": [
    "for idx,webtoon in enumerate(webtoon_list):\n",
    "    title = webtoon['title']\n",
    "    print(webtoon)\n",
    "    detail_link = webtoon['detail_link']\n",
    "    print(idx, title, detail_link)\n",
    "#     write_mage(title, detail_link)\n",
    " "
   ]
  },
  {
   "cell_type": "code",
   "execution_count": null,
   "metadata": {},
   "outputs": [],
   "source": []
  },
  {
   "cell_type": "code",
   "execution_count": null,
   "metadata": {},
   "outputs": [],
   "source": []
  }
 ],
 "metadata": {
  "kernelspec": {
   "display_name": "Python 3",
   "language": "python",
   "name": "python3"
  },
  "language_info": {
   "codemirror_mode": {
    "name": "ipython",
    "version": 3
   },
   "file_extension": ".py",
   "mimetype": "text/x-python",
   "name": "python",
   "nbconvert_exporter": "python",
   "pygments_lexer": "ipython3",
   "version": "3.7.6"
  }
 },
 "nbformat": 4,
 "nbformat_minor": 2
}
